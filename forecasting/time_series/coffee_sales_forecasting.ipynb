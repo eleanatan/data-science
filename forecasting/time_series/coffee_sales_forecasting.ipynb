{
 "cells": [
  {
   "cell_type": "markdown",
   "metadata": {},
   "source": [
    "## Time Series Forecasting\n",
    "1. Naive method, Simple average method and the simple moving average method\n",
    "2. Exponential Smoothing: Simple Exponential Smoothing technique, Holt’s method with trend and Holt Winter’s method\n",
    "3. Auto Regressive methods: ARIMA/SARIMA\n",
    "4. Machine Learning methods: CNN x LSTM\n",
    "5. Hybrids: Prophet"
   ]
  },
  {
   "cell_type": "code",
   "execution_count": null,
   "metadata": {},
   "outputs": [],
   "source": [
    "import numpy as np\n",
    "import pandas as pd\n",
    "import pmdarima as pm\n",
    "import matplotlib.pyplot as plt\n",
    "import seaborn as sns\n",
    "import warnings\n",
    "import math\n",
    "from scipy.stats import variation\n",
    "\n",
    "%matplotlib  inline\n",
    "warnings.filterwarnings('ignore')\n",
    "sns.set_style(\"darkgrid\")\n",
    "\n",
    "import sklearn\n",
    "from sklearn.metrics import mean_squared_error"
   ]
  },
  {
   "cell_type": "code",
   "execution_count": null,
   "metadata": {},
   "outputs": [],
   "source": [
    "df = pd.read_csv(r'C:\\Users\\a844050\\Documents\\Github\\personal\\data_science\\forecasting\\time_series\\datasets\\coffee_sales.csv')"
   ]
  },
  {
   "cell_type": "code",
   "execution_count": null,
   "metadata": {},
   "outputs": [],
   "source": [
    "print(f\"{df.shape[0]} Rows & {df.shape[1]} Columns\")\n",
    "print(\"------\")\n",
    "print(df.dtypes)\n",
    "df.head(5)"
   ]
  },
  {
   "cell_type": "markdown",
   "metadata": {},
   "source": [
    "### Auto Regressive Methods"
   ]
  },
  {
   "cell_type": "markdown",
   "metadata": {},
   "source": [
    "#### >> Stationary Test"
   ]
  },
  {
   "cell_type": "code",
   "execution_count": null,
   "metadata": {},
   "outputs": [],
   "source": [
    "from statsmodels.tsa.stattools import adfuller\n",
    "from statsmodels.tsa.arima.model import ARIMA\n",
    "from statsmodels.graphics.tsaplots import plot_acf, plot_pacf\n",
    "\n",
    "def results_adfuller_test(pvalue, sig_level):\n",
    "    if pvalue < sig_level: \n",
    "        return print(\">> REJECT H_0: Time series is stationary, proceed without differencing\")\n",
    "    return print(\">> Cannot reject H_0: Time series is not stationary, differencing is required\")\n",
    "\n",
    "result = adfuller(df['money'], autolag='AIC')\n",
    "print(f'ADF Statistic: {result[0]}')\n",
    "print(f'p-value: {result[1]}')\n",
    "for key, value in result[4].items():\n",
    "    print('Critial Values:')\n",
    "    print(f'   {key}, {value}') \n",
    "\n",
    "print(\"\\n\")\n",
    "results_adfuller_test(result[1],0.05)"
   ]
  },
  {
   "cell_type": "markdown",
   "metadata": {},
   "source": [
    "#### >> Differencing"
   ]
  },
  {
   "cell_type": "code",
   "execution_count": null,
   "metadata": {},
   "outputs": [],
   "source": [
    "df_diff = df['money'].diff().dropna()\n",
    "result = adfuller(df_diff, autolag='AIC')\n",
    "\n",
    "print(f'ADF Statistic: {result[0]}')\n",
    "print(f'p-value: {result[1]}')\n",
    "for key, value in result[4].items():\n",
    "    print('Critial Values:')\n",
    "    print(f'   {key}, {value}') \n",
    "\n",
    "print(\"\\n\")\n",
    "results_adfuller_test(result[1],0.05)"
   ]
  },
  {
   "cell_type": "code",
   "execution_count": null,
   "metadata": {},
   "outputs": [],
   "source": [
    "fig, axes = plt.subplots(1, 2, figsize=(14, 5))\n",
    "\n",
    "plot_acf(df_diff, ax=axes[0])\n",
    "plot_pacf(df_diff, ax=axes[1])\n",
    "\n",
    "axes[0].set_title('ACF Plot')\n",
    "axes[1].set_title('PACF Plot')\n",
    "\n",
    "plt.tight_layout()\n",
    "plt.show()"
   ]
  },
  {
   "cell_type": "markdown",
   "metadata": {},
   "source": [
    "#### Time Series Decomposition"
   ]
  },
  {
   "cell_type": "code",
   "execution_count": null,
   "metadata": {},
   "outputs": [],
   "source": [
    "import matplotlib.dates as mdates\n",
    "from statsmodels.tsa.seasonal import seasonal_decompose\n",
    "\n",
    "temp = df.reset_index()[['datetime', 'money']].copy()\n",
    "temp.index = np.array(temp['datetime'], dtype=np.datetime64)\n",
    "temp = temp[['money']]\n",
    "\n",
    "print('Daily Coffee Sales (Sum) Decomposition')\n",
    "daily_data = temp.resample('D').sum()\n",
    "result = seasonal_decompose(daily_data.dropna(), model='additive')\n",
    "result.plot()\n",
    "plt.gca().xaxis.set_major_formatter(mdates.DateFormatter('%d'))\n",
    "plt.show()"
   ]
  },
  {
   "cell_type": "code",
   "execution_count": null,
   "metadata": {},
   "outputs": [],
   "source": [
    "import numpy as np\n",
    "import pandas as pd\n",
    "import matplotlib.pyplot as plt\n",
    "from statsmodels.tsa.holtwinters import ExponentialSmoothing\n",
    "from statsmodels.tsa.api import ExponentialSmoothing as ExponentialSmoothingV2\n",
    "from tensorflow.keras.models import Sequential\n",
    "from tensorflow.keras.layers import Conv1D, MaxPooling1D, LSTM, Dense, Dropout\n",
    "from sklearn.preprocessing import MinMaxScaler\n",
    "from pmdarima import auto_arima\n",
    "from sklearn.metrics import mean_absolute_error, mean_squared_error\n",
    "from math import sqrt\n",
    "\n",
    "# Import timeseries data\n",
    "data = daily_data\n",
    "\n",
    "# Split data into training and test sets\n",
    "train = data[:int(len(data)*0.8)]\n",
    "test = data[int(len(data)*0.8):]\n",
    "\n",
    "# Prepare the data for CNN-LSTM\n",
    "def create_dataset(series, look_back=7):\n",
    "    X, y = [], []\n",
    "    for i in range(len(series) - look_back):\n",
    "        X.append(series[i:i + look_back])\n",
    "        y.append(series[i + look_back])\n",
    "    return np.array(X), np.array(y)\n",
    "\n",
    "look_back = 7  # Number of time steps to look back\n",
    "X_train, y_train = create_dataset(train.values, look_back)\n",
    "X_test, y_test = create_dataset(test.values, look_back)\n",
    "\n",
    "# Normalize data\n",
    "scaler = MinMaxScaler()\n",
    "X_train = scaler.fit_transform(X_train)\n",
    "X_test = scaler.transform(X_test)\n",
    "\n",
    "# Reshape for CNN-LSTM (samples, timesteps, features)\n",
    "X_train = X_train.reshape((X_train.shape[0], X_train.shape[1], 1))\n",
    "X_test = X_test.reshape((X_test.shape[0], X_test.shape[1], 1))\n",
    "\n",
    "# Build CNN-LSTM model\n",
    "cnn_lstm_model = Sequential()\n",
    "cnn_lstm_model.add(Conv1D(filters=64, kernel_size=3, activation='relu', input_shape=(look_back, 1)))\n",
    "cnn_lstm_model.add(MaxPooling1D(pool_size=2))\n",
    "cnn_lstm_model.add(Dropout(0.2))\n",
    "cnn_lstm_model.add(LSTM(50, return_sequences=True))\n",
    "cnn_lstm_model.add(LSTM(50))\n",
    "cnn_lstm_model.add(Dense(1))\n",
    "\n",
    "cnn_lstm_model.compile(optimizer='adam', loss='mean_squared_error')\n",
    "\n",
    "# Train the CNN-LSTM model\n",
    "cnn_lstm_history = cnn_lstm_model.fit(X_train, y_train, epochs=20, batch_size=32, validation_split=0.1, verbose=1)\n",
    "\n",
    "# Predict using CNN-LSTM\n",
    "cnn_lstm_y_pred = cnn_lstm_model.predict(X_test)\n",
    "\n",
    "# 1. Naive Method, Simple Average, and Simple Moving Average\n",
    "naive_forecast = pd.Series([train.iloc[-1]] * len(test), index=test.index)\n",
    "simple_average_forecast = pd.Series([np.mean(train)] * len(test), index=test.index)\n",
    "moving_average = train.rolling(window=7).mean().iloc[-1]\n",
    "moving_average_forecast = pd.Series([moving_average] * len(test), index=test.index)\n",
    "\n",
    "# 2. Exponential Smoothing Methods\n",
    "# Simple Exponential Smoothing\n",
    "ses_model = ExponentialSmoothing(train, trend=None, seasonal=None, seasonal_periods=None)\n",
    "ses_fit = ses_model.fit()\n",
    "ses_forecast = ses_fit.predict(start=test.index[0], end=test.index[-1])\n",
    "\n",
    "# Holt’s Method (with Trend)\n",
    "holt_model = ExponentialSmoothingV2(train, trend='add', seasonal=None, seasonal_periods=None)\n",
    "holt_fit = holt_model.fit()\n",
    "holt_forecast = holt_fit.predict(start=test.index[0], end=test.index[-1])\n",
    "\n",
    "# Holt-Winters Method (with Trend and Seasonality)\n",
    "hw_model = ExponentialSmoothingV2(train, trend='add', seasonal='add', seasonal_periods=7)  # Weekly seasonality\n",
    "hw_fit = hw_model.fit()\n",
    "hw_forecast = hw_fit.predict(start=test.index[0], end=test.index[-1])\n",
    "\n",
    "# 3. pmdarima auto_arima for optimal ARIMA/SARIMA\n",
    "auto_arima_model = auto_arima(train, seasonal=True, m=7,d=None,stepwise=True, trace=True)\n",
    "auto_arima_forecast = auto_arima_model.predict(n_periods=len(test))\n",
    "\n",
    "# 4. CNN-LSTM Forecast\n",
    "cnn_lstm_y_pred_flat = cnn_lstm_y_pred.flatten()\n",
    "\n",
    "# Evaluation Metrics\n",
    "def evaluate_forecast(forecast, actual):\n",
    "    mae = mean_absolute_error(actual, forecast)\n",
    "    mse = mean_squared_error(actual, forecast)\n",
    "    rmse = sqrt(mse)\n",
    "    return mae, mse, rmse\n",
    "\n",
    "naive_mae, naive_mse, naive_rmse = evaluate_forecast(naive_forecast, test)\n",
    "simple_average_mae, simple_average_mse, simple_average_rmse = evaluate_forecast(simple_average_forecast, test)\n",
    "moving_average_mae, moving_average_mse, moving_average_rmse = evaluate_forecast(moving_average_forecast, test)\n",
    "ses_mae, ses_mse, ses_rmse = evaluate_forecast(ses_forecast, test)\n",
    "holt_mae, holt_mse, holt_rmse = evaluate_forecast(holt_forecast, test)\n",
    "hw_mae, hw_mse, hw_rmse = evaluate_forecast(hw_forecast, test)\n",
    "auto_arima_mae, auto_arima_mse, auto_arima_rmse = evaluate_forecast(auto_arima_forecast, test)\n",
    "\n",
    "# Plotting\n",
    "plt.figure(figsize=(14, 10))\n",
    "plt.plot(data, label='Original Data')\n",
    "plt.plot(test.index, naive_forecast, label='Naive Forecast', color='yellow')\n",
    "plt.plot(test.index, simple_average_forecast, label='Simple Avergae', color='cyan')\n",
    "plt.plot(test.index, moving_average_forecast, label='Moving Average', color='purple')\n",
    "plt.plot(test.index, ses_forecast, label='Simple Exponential Smoothing', color='orange')\n",
    "plt.plot(test.index, holt_forecast, label='Holt’s Method', color='green')\n",
    "plt.plot(test.index, hw_forecast, label='Holt-Winters Method', color='red')\n",
    "plt.plot(test.index, auto_arima_forecast, label='pmdarima auto_arima', color='blue')\n",
    "plt.plot(test.index[look_back:], cnn_lstm_y_pred_flat, label='CNN-LSTM', color='cyan')\n",
    "plt.axvline(x=train.index[-1], color='grey', linestyle='--', label='Train/Test Split')\n",
    "plt.legend()\n",
    "plt.title('Time Series Forecasting')\n",
    "plt.show()"
   ]
  },
  {
   "cell_type": "code",
   "execution_count": null,
   "metadata": {},
   "outputs": [],
   "source": [
    "print(\"Evaluation Metrics:\")\n",
    "print(f\"Naive Method: MAE={naive_mae:.3f}, MSE={naive_mse:.3f}, RMSE={naive_rmse:.3f}\")\n",
    "print(f\"Simple Average: MAE={simple_average_mae:.3f}, MSE={simple_average_mse:.3f}, RMSE={simple_average_rmse:.3f}\")\n",
    "print(f\"Moving Average: MAE={moving_average_mae:.3f}, MSE={moving_average_mse:.3f}, RMSE={moving_average_rmse:.3f}\")\n",
    "print(f\"Simple Exponential Smoothing: MAE={ses_mae:.3f}, MSE={ses_mse:.3f}, RMSE={ses_rmse:.3f}\")\n",
    "print(f\"Holt’s Method: MAE={holt_mae:.3f}, MSE={holt_mse:.3f}, RMSE={holt_rmse:.3f}\")\n",
    "print(f\"Holt-Winters Method: MAE={hw_mae:.3f}, MSE={hw_mse:.3f}, RMSE={hw_rmse:.3f}\")\n",
    "print(f\"pmdarima auto_arima: MAE={auto_arima_mae:.3f}, MSE={auto_arima_mse:.3f}, RMSE={auto_arima_rmse:.3f}\")\n",
    "print(f\"Chosen SARIMA model: {auto_arima_model}\")\n",
    "print(f\"CNN-LSTM: MAE={cnn_lstm_mae:.3f}, MSE={cnn_lstm_mse:.3f}, RMSE={cnn_lstm_rmse:.3f}\")\n",
    "\n"
   ]
  }
 ],
 "metadata": {
  "kernelspec": {
   "display_name": "Python 3",
   "language": "python",
   "name": "python3"
  },
  "language_info": {
   "codemirror_mode": {
    "name": "ipython",
    "version": 3
   },
   "file_extension": ".py",
   "mimetype": "text/x-python",
   "name": "python",
   "nbconvert_exporter": "python",
   "pygments_lexer": "ipython3",
   "version": "3.9.13"
  }
 },
 "nbformat": 4,
 "nbformat_minor": 2
}
